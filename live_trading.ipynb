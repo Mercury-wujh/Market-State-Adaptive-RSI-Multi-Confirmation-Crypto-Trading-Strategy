{
 "cells": [
  {
   "cell_type": "code",
   "outputs": [],
   "source": [
    "import pandas as pd\n",
    "import os\n",
    "from matplotlib import pyplot as plt\n",
    "import time\n",
    "import schedule\n",
    "import func as func\n",
    "from datetime import datetime\n",
    "from binance.client import Client\n",
    "from binance.enums import *"
   ],
   "metadata": {
    "collapsed": false,
    "ExecuteTime": {
     "end_time": "2025-10-08T09:18:04.960651Z",
     "start_time": "2025-10-08T09:18:01.665082Z"
    }
   },
   "id": "7801dbc39e20a0f9",
   "execution_count": 1
  },
  {
   "cell_type": "markdown",
   "source": [
    "Create a client"
   ],
   "metadata": {
    "collapsed": false
   },
   "id": "84d90a662fa9ba99"
  },
  {
   "cell_type": "code",
   "outputs": [],
   "source": [
    "def create_client(API_KEY, API_SECRET, test):\n",
    "    if test:\n",
    "        client = Client(API_KEY, API_SECRET, testnet=test)\n",
    "        #client.API_URL = 'https://testnet.binance.vision/api'\n",
    "    else:\n",
    "        client = Client(API_KEY, API_SECRET)\n",
    "    return client"
   ],
   "metadata": {
    "collapsed": false,
    "ExecuteTime": {
     "end_time": "2025-10-08T09:18:07.531183Z",
     "start_time": "2025-10-08T09:18:07.526774Z"
    }
   },
   "id": "6281c532d2e59e3c",
   "execution_count": 2
  },
  {
   "cell_type": "markdown",
   "source": [
    "Place order"
   ],
   "metadata": {
    "collapsed": false
   },
   "id": "bbd5c6ccffdabb2"
  },
  {
   "cell_type": "code",
   "outputs": [],
   "source": [
    "def place_order(client, symbol, side, amount):\n",
    "    try:\n",
    "        order = client.create_order(\n",
    "            symbol=symbol,\n",
    "            side=side.upper(),\n",
    "            type=ORDER_TYPE_MARKET,  # market Order, executed immediately at the current market price\n",
    "            quantity=round(amount, 5)  # keep 5 decimal places to avoid precision errors\n",
    "        )\n",
    "        print(f\"[{datetime.now()}] Placed {side} order: {amount} {symbol}\")  # print the order\n",
    "        return order\n",
    "    \n",
    "    except Exception as e:\n",
    "        print(f\"[ERROR] Order failed: {e}\")\n",
    "        return None"
   ],
   "metadata": {
    "collapsed": false,
    "ExecuteTime": {
     "end_time": "2025-10-08T09:18:11.125907Z",
     "start_time": "2025-10-08T09:18:11.122760Z"
    }
   },
   "id": "407f400fbde5357",
   "execution_count": 3
  },
  {
   "cell_type": "markdown",
   "source": [
    "Main strategy"
   ],
   "metadata": {
    "collapsed": false
   },
   "id": "dde9238e08a6917d"
  },
  {
   "cell_type": "code",
   "outputs": [],
   "source": [
    "def strategy(client, df, param):\n",
    "    # get the last klines to generate trading signal\n",
    "    row = df.iloc[-1, :]\n",
    "    # get the position of USDT and targeted crypto\n",
    "    usdt = float(client.get_asset_balance(asset=\"USDT\")[\"free\"])   # USDT hold\n",
    "    position = float(client.get_asset_balance(asset=\"BTC\")[\"free\"])  # BTC hold\n",
    "    pv = usdt + position * row[\"close\"]  # present value of total assets\n",
    "    order = None\n",
    "\n",
    "    # ======== ranging market: RSI + BB ========\n",
    "    if row[\"ADX\"] < param[\"adx_threshold\"][0]:\n",
    "        if ((row[\"RSI\"] < param[\"rsi_threshold\"][0]) and  # RSI denotes oversold\n",
    "            (row[\"close\"] < param[\"bb_threshold\"][0] * row[\"BB_low\"]) and  # close falls below lower line of bbands\n",
    "            (usdt / pv > 0.4)):\n",
    "            allocation = min(pv * param[\"trade_ratio\"], usdt)\n",
    "            amount = allocation / row[\"close\"]\n",
    "            \n",
    "            order = place_order(client, symbol, \"buy\", amount)\n",
    "\n",
    "        if ((row[\"RSI\"] > param[\"rsi_threshold\"][1]) and\n",
    "            (row[\"close\"] > param[\"bb_threshold\"][1] * row[\"BB_up\"]) and\n",
    "            (position > param[\"trade_ratio\"])):\n",
    "            allocation = position * row[\"close\"]\n",
    "            amount = allocation / row[\"close\"]\n",
    "            amount = min(amount, position)\n",
    "                \n",
    "            if amount > param[\"min_position\"]:\n",
    "                order = place_order(client, symbol, \"sell\", amount)\n",
    "\n",
    "    # ======== trending market: RSI + MACD ========\n",
    "    if row[\"ADX\"] > param[\"adx_threshold\"][1]:\n",
    "        if row[\"MACD\"] > row[\"signal\"]:  # uptrend\n",
    "            if row[\"RSI\"] < param[\"rsi_up\"][0]:\n",
    "                allocation = min(pv * param[\"trade_ratio\"], usdt)\n",
    "                buy_price = row[\"close\"]\n",
    "                amount = allocation / buy_price\n",
    "                order = place_order(client, symbol, \"buy\", amount)\n",
    "                \n",
    "            elif row[\"RSI\"] > param[\"rsi_up\"][1]:\n",
    "                allocation = position * row[\"close\"]\n",
    "                amount = allocation / row[\"close\"]\n",
    "                amount = min(amount, position)\n",
    "                    \n",
    "                if amount > param[\"min_position\"]:\n",
    "                    order = place_order(client, symbol, \"sell\", amount)\n",
    "\n",
    "        elif row[\"MACD\"] < row[\"signal\"]:  # downtrend\n",
    "            if row[\"RSI\"] < param[\"rsi_down\"][0]:\n",
    "                allocation = min(pv * param[\"trade_ratio\"], usdt)\n",
    "                amount = allocation / row[\"close\"]\n",
    "\n",
    "                order = place_order(client, symbol, \"buy\", amount)\n",
    "                \n",
    "            elif row[\"RSI\"] > param[\"rsi_down\"][1]:\n",
    "                allocation = position * row[\"close\"]\n",
    "                amount = allocation / row[\"close\"]\n",
    "                amount = min(amount, position)\n",
    "                    \n",
    "                if amount > param[\"min_position\"]:\n",
    "                    order = place_order(client, symbol, \"sell\", amount)\n",
    "\n",
    "    return order"
   ],
   "metadata": {
    "collapsed": false,
    "ExecuteTime": {
     "end_time": "2025-10-08T09:18:24.345221Z",
     "start_time": "2025-10-08T09:18:24.338152Z"
    }
   },
   "id": "ed413d192bf22e19",
   "execution_count": 4
  },
  {
   "cell_type": "markdown",
   "source": [
    "Loop\n",
    "1. record newest account state and merge into account_history"
   ],
   "metadata": {
    "collapsed": false
   },
   "id": "bf8bff1749ee9b79"
  },
  {
   "cell_type": "code",
   "outputs": [],
   "source": [
    "def record_account(account_history, client, symbol):\n",
    "    \"\"\"record account info: USDT, position, present value, P&L\"\"\"\n",
    "    account_info = client.get_account()\n",
    "    balances = account_info[\"balances\"]\n",
    "    \n",
    "    # get date and transfer to datetime\n",
    "    date = datetime.now().date()\n",
    "    date = pd.to_datetime(date)\n",
    "    # get the position of USDT\n",
    "    usdt_balance = float([x for x in balances if x[\"asset\"] == \"USDT\"][0][\"free\"])\n",
    "    # get the position of targeted crypto\n",
    "    base_asset = symbol.replace(\"USDT\", \"\")\n",
    "    coin_balance = float([x for x in balances if x[\"asset\"] == base_asset][0][\"free\"])\n",
    "    # get present price of targeted crypto\n",
    "    ticker = client.get_symbol_ticker(symbol=symbol)\n",
    "    price = float(ticker[\"price\"])\n",
    "    # compute the present value of total assets\n",
    "    total_assets = usdt_balance + coin_balance * price\n",
    "    \n",
    "    # assets value of last day\n",
    "    if len(account_history) > 0:\n",
    "        yesterday_assets = account_history.iloc[-1][\"total_assets\"]\n",
    "        daily_pnl = total_assets - yesterday_assets\n",
    "        daily_pnl_rate = daily_pnl / yesterday_assets if yesterday_assets > 0 else 0\n",
    "        daily_coin_return = (price - price.iloc[-1][\"price\"]) / price.iloc[-1][\"price\"]\n",
    "    else:\n",
    "        daily_pnl, daily_pnl_rate, daily_coin_return = 0, 0, 0  # set P&L of the first day to be 0\n",
    "\n",
    "    # compute NAV\n",
    "    if len(account_history) > 0:\n",
    "        NAV = account_history.iloc[-1]['NAV'] * (1 + daily_pnl_rate)\n",
    "        baseline = account_history.iloc[-1]['baseline'] * (1 + daily_coin_return)\n",
    "        account_history['NAV'], account_history['baseline'] = 1\n",
    "    else:\n",
    "        NAV, baseline = 1, 1  # set net value of the first day to be 1\n",
    "        \n",
    "    # concat the newest state with account_history\n",
    "    account_conc = pd.DataFrame({\n",
    "        \"date\": [date],\n",
    "        \"usdt_balance\": [usdt_balance],\n",
    "        f\"{symbol}_balance\": [coin_balance],\n",
    "        \"price\": [price],\n",
    "        \"total_assets\": [total_assets],\n",
    "        \"daily_pnl\": [daily_pnl],\n",
    "        \"daily_pnl_rate\": [daily_pnl_rate],\n",
    "        \"NAV\": [NAV],\n",
    "        \"baseline\": [baseline]\n",
    "    })\n",
    "    account_history = func.safe_concat(account_history, account_conc)\n",
    "    \n",
    "    return account_history"
   ],
   "metadata": {
    "collapsed": false,
    "ExecuteTime": {
     "end_time": "2025-10-08T09:18:44.700425Z",
     "start_time": "2025-10-08T09:18:44.694187Z"
    }
   },
   "id": "d3fdb82f3f9f2d5d",
   "execution_count": 5
  },
  {
   "cell_type": "markdown",
   "source": [
    "2. save the account info and net value curves"
   ],
   "metadata": {
    "collapsed": false
   },
   "id": "80245673aadcce92"
  },
  {
   "cell_type": "code",
   "outputs": [],
   "source": [
    "def generate_daily_report(account_history):\n",
    "    df = pd.DataFrame(account_history)\n",
    "\n",
    "    # print the account info\n",
    "    today = df.iloc[-1]\n",
    "    print(\"===== Daily Report =====\")\n",
    "    print(f\"Date: {today['date']}\")\n",
    "    print(f\"Assets: {today['total_assets']:.2f} USDT\")\n",
    "    print(f\"USDT: {today['usdt_balance']:.2f} USDT\")\n",
    "    print(f\"Position: {today[f'{symbol}_balance']:.6f} BTC\")\n",
    "    print(f\"P&L: {today['daily_pnl']:.2f} USDT ({today['daily_pnl_rate']:.2%})\")\n",
    "    print(\"========================\")\n",
    "\n",
    "    # reserve to csv\n",
    "    df.to_csv(\"account_report.csv\", index=False)\n",
    "\n",
    "    # plot the net value curves\n",
    "    fig, ax = plt.subplots(figsize=(10, 5))\n",
    "    ax.set_xlabel('Date')\n",
    "    ax.set_title(\"NAV vs baseline\")\n",
    "    ax.plot(df['date'], df['NAV'], color='red', label='NAV')\n",
    "    ax.plot(df['date'], df['baseline'], color='blue', label='baseline')\n",
    "    ax.legend(loc='upper left')  # show legend\n",
    "    fig.tight_layout()\n",
    "    fig.savefig(\"equity_curve.png\")\n",
    "    plt.close(fig)"
   ],
   "metadata": {
    "collapsed": false,
    "ExecuteTime": {
     "end_time": "2025-10-08T09:18:48.239265Z",
     "start_time": "2025-10-08T09:18:48.233477Z"
    }
   },
   "id": "34fcc71e7fcfc484",
   "execution_count": 6
  },
  {
   "cell_type": "markdown",
   "source": [
    "3. main loop structure"
   ],
   "metadata": {
    "collapsed": false
   },
   "id": "69e047aa7c98a3d9"
  },
  {
   "cell_type": "code",
   "outputs": [],
   "source": [
    "def main(REAL_API_KEY, REAL_API_SECRET, TEST_API_KEY, TEST_API_SECRET, symbol, interval, param, account_history, trade_log):\n",
    "    data_client = create_client(REAL_API_KEY, REAL_API_SECRET, test=False)  # getting data from live market\n",
    "    trade_client = create_client(TEST_API_KEY, TEST_API_SECRET, test=True)  # trading on testnet\n",
    "    \n",
    "    # output daily report at 9 o'clock (including account info and net value curves)\n",
    "    def daily_report():\n",
    "        nonlocal account_history\n",
    "        account_history = record_account(account_history, trade_client, symbol)\n",
    "        generate_daily_report(account_history)\n",
    "\n",
    "    schedule.every().day.at(\"09:00\").do(daily_report)\n",
    "    \n",
    "    while True:\n",
    "        try:\n",
    "            # get latest 200 klines\n",
    "            print(f\"[{datetime.now()}] Fetching data from live market\")\n",
    "            klines = data_client.get_klines(symbol=symbol, interval=interval, limit=200)\n",
    "            df = pd.DataFrame(klines, columns=[\n",
    "                \"open_time\", \"open\", \"high\", \"low\", \"close\", \"volume\", \"close_time\",\n",
    "                \"quote_asset_volume\", \"number_of_trades\", \"taker_buy_base\", \"taker_buy_quote\", \"ignore\"\n",
    "            ])\n",
    "            df = df[[\"open_time\", \"open\", \"high\", \"low\", \"close\", \"volume\", \"close_time\"]]  # only keep key fields\n",
    "            df[\"open_time\"] = pd.to_datetime(df[\"open_time\"], unit=\"ms\")\n",
    "            df[\"close_time\"] = pd.to_datetime(df[\"close_time\"], unit=\"ms\")\n",
    "            df[['close', 'high', 'low']] = df[['close', 'high', 'low']].astype(float)  # transfer the data of selected columns from str to float\n",
    "    \n",
    "            # compute key indicators\n",
    "            period = 14  # time interval for computing RSI and Bollinger Bands\n",
    "            macd_span = [12, 26, 9]  # time interval for computing MACD\n",
    "    \n",
    "            df = func.compute_adx(df, period)  # compute ADX\n",
    "            df['RSI'] = func.compute_rsi(df['close'], period=period, ema=True)  # compute RSI\n",
    "            df['BB_sma'], df['BB_up'], df['BB_low'] = func.compute_bbands(\n",
    "                df['close'], window=period)  # compute bollinger bands, keep window same as period of RSI\n",
    "            df['MACD'], df['signal'], df['histogram'] = func.compute_macd(df['close'], macd_span)  # compute MACD\n",
    "    \n",
    "            # exercise strategy\n",
    "            print(f\"[{datetime.now()}] Running strategy...\")\n",
    "            valid_index = max(df['ADX'].first_valid_index(), df['RSI'].first_valid_index())  # find the first index of line where all indicators are not nan\n",
    "            df = df[df.index >= valid_index].reset_index(drop=True)  # start from the first line that all indicators are not nan\n",
    "            order = strategy(trade_client, df, param)\n",
    "            if order is not None:\n",
    "                record = {\n",
    "                    \"time\": df.iloc[-1, :][\"close_time\"],\n",
    "                    \"side\": order[\"side\"],\n",
    "                    \"price\": order[\"fills\"][0][\"price\"] if \"fills\" in order else None,\n",
    "                    \"executedQty\": order[\"executedQty\"],\n",
    "                    \"orderId\": order[\"orderId\"]\n",
    "                }\n",
    "    \n",
    "                # save to trades.csv\n",
    "                if not os.path.exists(trade_log):\n",
    "                    pd.DataFrame([record]).to_csv(trade_log, index=False)\n",
    "                else:\n",
    "                    pd.DataFrame([record]).to_csv(trade_log, mode=\"a\", header=False, index=False)\n",
    "                    \n",
    "                print(f\"[{datetime.now()}] Trade executed: {record}\")\n",
    "                \n",
    "        except Exception as e:\n",
    "            print(f\"[ERROR] {e}\")\n",
    "            \n",
    "        # running scheduled tasks (such as daily reports)\n",
    "        schedule.run_pending()\n",
    "        \n",
    "        time.sleep(60*60)  # exercise every hour\n"
   ],
   "metadata": {
    "collapsed": false,
    "ExecuteTime": {
     "end_time": "2025-10-08T09:19:08.004152Z",
     "start_time": "2025-10-08T09:19:07.991334Z"
    }
   },
   "id": "d1d846c40610812f",
   "execution_count": 7
  },
  {
   "cell_type": "markdown",
   "source": [
    "Live trading"
   ],
   "metadata": {
    "collapsed": false
   },
   "id": "8d1f163a1801029e"
  },
  {
   "cell_type": "code",
   "outputs": [],
   "source": [
    "if __name__ == \"__main__\":\n",
    "    # API Key\n",
    "    REAL_API_KEY = \"hsG5CK4sxPq1oGKKe0CJh7NRSZok1D0BliqIxAAZhibzJ9RgeZrVIv9HhdLygvEG\"  # API for getting live market data\n",
    "    REAL_API_SECRET = \"tx66aq8NoXFViVA7KDMUjpRWfwSl03hHTAsoTneffcEPGGC4qfC2bolVPxiHvGgQ\"\n",
    "    TEST_API_KEY = \"RPeEh2TpFcFmasUYcQZ7DSkoIECgEnqSf0LX7uQqvw8v2D8HDWHpj6ED5mlIIk8f\"  # API for testnet\n",
    "    TEST_API_SECRET = \"SsvFbDpyxUiyCDgNLUcUeq2feDSt3PzvBOhTvUMoEAjX1aqtjMMgkz2UxpLuPpFl\"\n",
    "    symbol = \"BTCUSDT\"  # targeted crypto\n",
    "    timeframe = \"1h\"   # time interval\n",
    "    \n",
    "    # strategy parameters\n",
    "    param = {\n",
    "        \"trade_ratio\": 0.2,\n",
    "        \"min_position\": 10e-5,  # minimum trading amount\n",
    "        \"adx_threshold\": [20, 25],  # ranging/trending market threshold\n",
    "        \"rsi_threshold\": [30, 70],  # oversold/overbought threshold in ranging market\n",
    "        \"rsi_up\": [35, 75],  # oversold/overbought threshold in uptrend market\n",
    "        \"rsi_down\": [25, 65],  # oversold/overbought threshold in downtrend market\n",
    "        \"bb_threshold\": [0.98, 1.02]  # adjustment of bollinger band\n",
    "    }\n",
    "    \n",
    "    # record essential info\n",
    "    trade_log=\"trades.csv\"  # trading record\n",
    "    account_history = pd.DataFrame(\n",
    "        columns=[\"date\", \"usdt_balance\", f\"{symbol}_balance\", \"price\", \"total_assets\", \"daily_pnl\", \"daily_pnl_rate\", \"NAV\", \"baseline\"]\n",
    "    )  # account record\n",
    "    \n",
    "    # execute live trading\n",
    "    main(\n",
    "        REAL_API_KEY, REAL_API_SECRET, TEST_API_KEY, TEST_API_SECRET, symbol=symbol, interval=timeframe, param=param, account_history=account_history, trade_log=trade_log\n",
    "    )"
   ],
   "metadata": {
    "collapsed": false
   },
   "id": "d35bd8b0e5b68d72",
   "execution_count": null
  },
  {
   "cell_type": "markdown",
   "source": [
    "Check all the crypto positions (just for checking, not a part of strategy)"
   ],
   "metadata": {
    "collapsed": false
   },
   "id": "697ced51f7b53a11"
  },
  {
   "cell_type": "code",
   "outputs": [],
   "source": [
    "client = Client(TEST_API_KEY, TEST_API_SECRET, testnet=True)\n",
    "\n",
    "account = client.get_account()\n",
    "for asset in account[\"balances\"]:\n",
    "    if float(asset[\"free\"]) > 0:\n",
    "        print(asset)"
   ],
   "metadata": {
    "collapsed": false
   },
   "id": "99985891f7077632",
   "execution_count": 0
  }
 ],
 "metadata": {
  "kernelspec": {
   "display_name": "Python 3",
   "language": "python",
   "name": "python3"
  },
  "language_info": {
   "codemirror_mode": {
    "name": "ipython",
    "version": 2
   },
   "file_extension": ".py",
   "mimetype": "text/x-python",
   "name": "python",
   "nbconvert_exporter": "python",
   "pygments_lexer": "ipython2",
   "version": "2.7.6"
  }
 },
 "nbformat": 4,
 "nbformat_minor": 5
}
